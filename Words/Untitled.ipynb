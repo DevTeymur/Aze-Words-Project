{
 "cells": [
  {
   "cell_type": "code",
   "execution_count": 3,
   "id": "3160aa0b",
   "metadata": {},
   "outputs": [
    {
     "name": "stdout",
     "output_type": "stream",
     "text": [
      "[0]\n",
      "[1]\n",
      "[2]\n",
      "[4]\n"
     ]
    }
   ],
   "source": [
    "l = [3]\n",
    "\n",
    "for i in range(4):\n",
    "    print([i if i not in l else i+1])"
   ]
  },
  {
   "cell_type": "code",
   "execution_count": null,
   "id": "f2936ddc",
   "metadata": {},
   "outputs": [],
   "source": []
  }
 ],
 "metadata": {
  "kernelspec": {
   "display_name": "Python 3 (ipykernel)",
   "language": "python",
   "name": "python3"
  },
  "language_info": {
   "codemirror_mode": {
    "name": "ipython",
    "version": 3
   },
   "file_extension": ".py",
   "mimetype": "text/x-python",
   "name": "python",
   "nbconvert_exporter": "python",
   "pygments_lexer": "ipython3",
   "version": "3.8.10"
  }
 },
 "nbformat": 4,
 "nbformat_minor": 5
}
