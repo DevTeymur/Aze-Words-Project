{
 "cells": [
  {
   "cell_type": "code",
   "execution_count": 15,
   "id": "3160aa0b",
   "metadata": {},
   "outputs": [],
   "source": [
    "import pandas as pd\n",
    "import random"
   ]
  },
  {
   "cell_type": "code",
   "execution_count": 10,
   "id": "f2936ddc",
   "metadata": {},
   "outputs": [],
   "source": [
    "df = pd.read_csv(\"final.csv\")"
   ]
  },
  {
   "cell_type": "code",
   "execution_count": 11,
   "id": "fb82a277",
   "metadata": {},
   "outputs": [
    {
     "name": "stdout",
     "output_type": "stream",
     "text": [
      "<class 'pandas.core.frame.DataFrame'>\n",
      "RangeIndex: 20305 entries, 0 to 20304\n",
      "Data columns (total 2 columns):\n",
      " #   Column      Non-Null Count  Dtype \n",
      "---  ------      --------------  ----- \n",
      " 0   Unnamed: 0  20305 non-null  int64 \n",
      " 1   Text        20305 non-null  object\n",
      "dtypes: int64(1), object(1)\n",
      "memory usage: 317.4+ KB\n"
     ]
    }
   ],
   "source": [
    "df.info()"
   ]
  },
  {
   "cell_type": "code",
   "execution_count": 13,
   "id": "f01821b7",
   "metadata": {},
   "outputs": [],
   "source": [
    "df = df.drop(\"Unnamed: 0\", axis=1)"
   ]
  },
  {
   "cell_type": "code",
   "execution_count": 50,
   "id": "0f16f784",
   "metadata": {},
   "outputs": [
    {
     "data": {
      "text/html": [
       "<div>\n",
       "<style scoped>\n",
       "    .dataframe tbody tr th:only-of-type {\n",
       "        vertical-align: middle;\n",
       "    }\n",
       "\n",
       "    .dataframe tbody tr th {\n",
       "        vertical-align: top;\n",
       "    }\n",
       "\n",
       "    .dataframe thead th {\n",
       "        text-align: right;\n",
       "    }\n",
       "</style>\n",
       "<table border=\"1\" class=\"dataframe\">\n",
       "  <thead>\n",
       "    <tr style=\"text-align: right;\">\n",
       "      <th></th>\n",
       "      <th>Text</th>\n",
       "    </tr>\n",
       "  </thead>\n",
       "  <tbody>\n",
       "    <tr>\n",
       "      <th>0</th>\n",
       "      <td>azərbaycan erməni ara son döyük harada ged ətr...</td>\n",
       "    </tr>\n",
       "    <tr>\n",
       "      <th>1</th>\n",
       "      <td>son məlumat azərbaycan kor infeksiya yeni yolu...</td>\n",
       "    </tr>\n",
       "    <tr>\n",
       "      <th>2</th>\n",
       "      <td>baş nazik müavin şahin Mustafayev gün tehran i...</td>\n",
       "    </tr>\n",
       "    <tr>\n",
       "      <th>3</th>\n",
       "      <td>qış ev isti saxlama sadə ucuz üsulu</td>\n",
       "    </tr>\n",
       "    <tr>\n",
       "      <th>4</th>\n",
       "      <td>iraq rəsmi xəbər agentlik irq türkmən paytaxt ...</td>\n",
       "    </tr>\n",
       "    <tr>\n",
       "      <th>5</th>\n",
       "      <td>azərbaycan baş nazir müavin şahin Mustafayev i...</td>\n",
       "    </tr>\n",
       "    <tr>\n",
       "      <th>6</th>\n",
       "      <td>min əhali olan mar şəhər i məktəb sayəsində zə...</td>\n",
       "    </tr>\n",
       "    <tr>\n",
       "      <th>7</th>\n",
       "      <td>kor simptom haqqında getdikcə məlumat ək edil ...</td>\n",
       "    </tr>\n",
       "    <tr>\n",
       "      <th>8</th>\n",
       "      <td>türki hərbi təyyarə proqram çıxarıl ab yeni f ...</td>\n",
       "    </tr>\n",
       "    <tr>\n",
       "      <th>9</th>\n",
       "      <td>talib hakimiyyət gələn minlərlə əfqan qaçqın t...</td>\n",
       "    </tr>\n",
       "  </tbody>\n",
       "</table>\n",
       "</div>"
      ],
      "text/plain": [
       "                                                Text\n",
       "0  azərbaycan erməni ara son döyük harada ged ətr...\n",
       "1  son məlumat azərbaycan kor infeksiya yeni yolu...\n",
       "2  baş nazik müavin şahin Mustafayev gün tehran i...\n",
       "3                qış ev isti saxlama sadə ucuz üsulu\n",
       "4  iraq rəsmi xəbər agentlik irq türkmən paytaxt ...\n",
       "5  azərbaycan baş nazir müavin şahin Mustafayev i...\n",
       "6  min əhali olan mar şəhər i məktəb sayəsində zə...\n",
       "7  kor simptom haqqında getdikcə məlumat ək edil ...\n",
       "8  türki hərbi təyyarə proqram çıxarıl ab yeni f ...\n",
       "9  talib hakimiyyət gələn minlərlə əfqan qaçqın t..."
      ]
     },
     "execution_count": 50,
     "metadata": {},
     "output_type": "execute_result"
    }
   ],
   "source": [
    "df.head(10)"
   ]
  },
  {
   "cell_type": "markdown",
   "id": "646dac84",
   "metadata": {},
   "source": [
    "# Categories:\n",
    "## First\n",
    "\n",
    "#### Positive:\n",
    "uğurlu, bilik, təhsil, incəsənət, bayram, festival, mübarək\n",
    "\n",
    "#### Negative:\n",
    "cinayət, polis, təəssüf, fövqəladə, yanğın, erməni, cəbhə, repressiya, mitinq, xəstəlik, nikol\n",
    "\n",
    "\n",
    "#### Neutral:\n",
    "Paşa, yelo, abb, kapital bank, kart\n",
    "\n",
    "## Second:\n",
    "#### Politics:\n",
    "milli məclis, hökumətlərarası, azərbaycan, qondarma, iqtisadi, mitinq, erməni, sülh, bəyannamə,\n",
    "\n",
    "#### Banking:\n",
    "yelo, bank, kredit, müştəri\n",
    "\n",
    "#### Culture:\n",
    "mədəniyyət, şeir, poeziya, repressiya, sərgi, incəsənət, festival, sənətkar bəstəkar\n",
    "\n",
    "#### Education:\n",
    "təhsil, tələbə, şagird, universitet, məktəb, əlifba\n",
    "\n",
    "#### Sport:\n",
    "\n",
    "#### Military:\n",
    "ordu, rəşadətli, \n",
    "\n",
    "#### Other:"
   ]
  },
  {
   "cell_type": "code",
   "execution_count": 49,
   "id": "10ff3377",
   "metadata": {},
   "outputs": [
    {
     "name": "stdout",
     "output_type": "stream",
     "text": [
      "---------------------------------\n",
      "şanlı azərbaycan ordu zəng cəbr qu rayon neçə kəndi qu şəhər işğalçı azad edi yak qüdrətli ordu qara azərbaycan\n",
      "---------------------------------\n",
      "bra san ştat turist daşıyan avtobus qəza uğrama nəticə beş nəfər ölü nəfər yaralan\n",
      "---------------------------------\n",
      "hyusto universitet iqtisadiyyat üzrə fəxri professor pol roder qreqor thehill dərgi yak rusi prezident vladim putin ölkə yaxın xarici münaqişə lazım deyil\n",
      "---------------------------------\n",
      "novruzu ikinci çərşənbə olan od çərşənbə qapı döy o isti qəlbi hərarətli dünya günəşli olsun od çərşənbə mübarək\n",
      "---------------------------------\n",
      "baş redaktor silahlı qüvvə günü həsr olun yazı aşağı link oxu bilək tarix his hərb ordu dil dilqəm\n",
      "---------------------------------\n",
      "paralimpiyaçı biz sevindirmə davam edi tokio yay paralimpiya oyun qızıl medal sak çaq qızıl medalçı Lamiy vəli Orxa aslan inamlı qələbə münasibətilə ürəkdən təbrik ediəm\n",
      "---------------------------------\n",
      "narazı sahibkar Naz villa sak pul ödə\n",
      "---------------------------------\n",
      "sqloracle plsql üzrə yüksək səviyyə bilik sahib tətbiq sistem quraşdırılma dəqiq sazlanma işlək vəziyyət saxlanma operativ şəkil təmin etmə bacar sək komanda gözlə müraciət et\n",
      "---------------------------------\n",
      "azərbaycan müdafiə nazir gün yay yeni əməliyyat görün\n",
      "---------------------------------\n",
      "qonşu gürcü erməni müqayisə azərbaycan dövlət büdcə hesab rus dikk tədris küt olma icma vaxtaşırı narazılıq yara azərbaycan dövlət büdcə hesab rus dik təhsil link oxu\n"
     ]
    }
   ],
   "source": [
    "def returnRandom10Line(df = df):\n",
    "    random_numbers = [random.randint(0, df.shape[0]) for _ in range(10)]\n",
    "    for idx in random_numbers:\n",
    "        print(\"---------------------------------\")\n",
    "        print(df.loc[idx, 'Text'])\n",
    "    \n",
    "returnRandom10Line()"
   ]
  },
  {
   "cell_type": "code",
   "execution_count": null,
   "id": "26bd7541",
   "metadata": {},
   "outputs": [],
   "source": []
  }
 ],
 "metadata": {
  "kernelspec": {
   "display_name": "Python 3 (ipykernel)",
   "language": "python",
   "name": "python3"
  },
  "language_info": {
   "codemirror_mode": {
    "name": "ipython",
    "version": 3
   },
   "file_extension": ".py",
   "mimetype": "text/x-python",
   "name": "python",
   "nbconvert_exporter": "python",
   "pygments_lexer": "ipython3",
   "version": "3.8.10"
  }
 },
 "nbformat": 4,
 "nbformat_minor": 5
}
