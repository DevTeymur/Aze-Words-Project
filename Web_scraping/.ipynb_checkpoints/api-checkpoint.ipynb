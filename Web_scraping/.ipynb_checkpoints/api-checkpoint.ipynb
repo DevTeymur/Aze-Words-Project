{
 "cells": [
  {
   "cell_type": "code",
   "execution_count": 1,
   "id": "bb2cb62b",
   "metadata": {},
   "outputs": [],
   "source": [
    "import tweepy\n",
    "import webbrowser\n",
    "import time\n",
    "import pandas as pd"
   ]
  },
  {
   "cell_type": "markdown",
   "id": "3e98a2f4",
   "metadata": {},
   "source": [
    "# Authentication"
   ]
  },
  {
   "cell_type": "code",
   "execution_count": 2,
   "id": "a2487110",
   "metadata": {},
   "outputs": [],
   "source": [
    "consumer_key = \"bYD7UaDmKVBOr3HjswjTiV6MM\"\n",
    "consumer_secret_key = \"qNR3FNURhggb8RgNXnMziSG3LugBvqjAxVuf091ql16c2U5Yud\"\n",
    "callback_url = \"oob\""
   ]
  },
  {
   "cell_type": "code",
   "execution_count": 3,
   "id": "391fab74",
   "metadata": {},
   "outputs": [
    {
     "name": "stdout",
     "output_type": "stream",
     "text": [
      "https://api.twitter.com/oauth/authorize?oauth_token=U9k3WQAAAAABUbINAAABfUO_hKo\n",
      "Pin value: 4600202\n"
     ]
    },
    {
     "data": {
      "text/plain": [
       "('1313512849659121666-6VqsqQK3yPVl5eS8Pr8JgyTwi2oFBh',\n",
       " 'wU2MrTfHm4opkaIkZE8Y19OptmJZQpGT7HSMCsiu0QIwp')"
      ]
     },
     "execution_count": 3,
     "metadata": {},
     "output_type": "execute_result"
    }
   ],
   "source": [
    "auth = tweepy.OAuthHandler(consumer_key, consumer_secret_key, callback_url)\n",
    "redirect_url = auth.get_authorization_url()\n",
    "print(redirect_url)\n",
    "webbrowser.open(redirect_url)\n",
    "user_pin_input = input(\"Pin value: \")\n",
    "auth.get_access_token(user_pin_input)"
   ]
  },
  {
   "cell_type": "code",
   "execution_count": 4,
   "id": "752352b1",
   "metadata": {},
   "outputs": [],
   "source": [
    "api = tweepy.API(auth)"
   ]
  },
  {
   "cell_type": "code",
   "execution_count": 6,
   "id": "1a135b12",
   "metadata": {},
   "outputs": [],
   "source": [
    "my_friends=''"
   ]
  },
  {
   "cell_type": "code",
   "execution_count": 19,
   "id": "687660cd",
   "metadata": {},
   "outputs": [],
   "source": [
    "def get_friends_list():\n",
    "    \"\"\"This function returns list of screen names of user's friends.\"\"\"\n",
    "    global my_friends\n",
    "    friends_list=[]\n",
    "    if my_friends != '':\n",
    "        pass #Not requesting again\n",
    "    else:\n",
    "        my_friends = api.get_friends()\n",
    "    for f in my_friends:\n",
    "        friends_list.append(f.screen_name)\n",
    "    return friends_list"
   ]
  },
  {
   "cell_type": "code",
   "execution_count": 22,
   "id": "1802ff2f",
   "metadata": {},
   "outputs": [],
   "source": [
    "def upload_new_status(status_to_upload):\n",
    "    \"\"\"This function tweets status. No permission\"\"\"\n",
    "    new_status_check = False\n",
    "    new_status = api.update_status(status_to_upload)"
   ]
  },
  {
   "cell_type": "code",
   "execution_count": 5,
   "id": "e781ddbf",
   "metadata": {},
   "outputs": [],
   "source": [
    "screen_names=['GanirePashayeva', 'azpresident', 'agrogovaz', 'Baku_metro', 'polisazerbaycan', 'sosial_gov_az',\n",
    "      'asanxidmat', 'voaazeri', 'CityNetaze', 'alberteyniseydi', 'bbcazeri', 'Azercell', 'Bakcell', 'TvIctimai',\n",
    "      'yelo_bank', 'abb_bank', 'unibank', 'KapitalBankOJSC', 'PASHABank', 'akinchiproject', 'azadliq_news',\n",
    "      'AzadliqRadiosu', 'AzerbaijanPA', 'MeydanTV', 'mikayilmusfiq_', 'MikroskopMedia',\n",
    "      'natiqnatiqoglu', 'RgisiD', 'SefaMehdi', 'sosial_gov_az', 'INazirliyi', 'HA_Center', 'minenergyaze',\n",
    "      'AzNatArchives', 'Youthfund_Az', 'iqtisadiislahat']"
   ]
  },
  {
   "cell_type": "code",
   "execution_count": 6,
   "id": "fbada40c",
   "metadata": {},
   "outputs": [],
   "source": [
    "def DataOfUser_ToFrame(screenname):\n",
    "    \"\"\"This function collects data of particular user and passes it to dataframe\"\"\"\n",
    "    user_timeline = ''\n",
    "    results = {'Id': [], 'Screen_name': [], 'Created_at': [], 'Text': [], 'Url': [],\n",
    "              'Hastags': [], 'Symbols': []}\n",
    "    if user_timeline!='':\n",
    "        user_timeline=''\n",
    "    else:\n",
    "        try:\n",
    "            user_timeline = api.user_timeline(screen_name=screenname, tweet_mode='extended', count=200)\n",
    "        except:\n",
    "            user_timeline = api.user_timeline(screen_name=screenname, tweet_mode='extended', count=20)\n",
    "    for data in user_timeline:\n",
    "        results['Id'].append(data.id)\n",
    "        results['Screen_name'].append(data.author.screen_name)\n",
    "        results['Created_at'].append(data.created_at)\n",
    "        results['Text'].append(data.full_text)\n",
    "        try:\n",
    "            results['Url'].append(data.entities['urls'][0]['url'])\n",
    "        except:\n",
    "            results['Url'].append('No url')\n",
    "        results['Hastags'].append(data.entities['hashtags'])\n",
    "        results['Symbols'].append(data.entities['symbols'])\n",
    "    df=pd.DataFrame(results)\n",
    "    df.to_csv(f'Data/{scname}.csv', index=False)\n",
    "    print(screenname, df.shape)\n",
    "    return df"
   ]
  },
  {
   "cell_type": "code",
   "execution_count": 7,
   "id": "82f3ccaa",
   "metadata": {},
   "outputs": [
    {
     "name": "stdout",
     "output_type": "stream",
     "text": [
      "GanirePashayeva (200, 7)\n",
      "azpresident (200, 7)\n",
      "agrogovaz (200, 7)\n",
      "Baku_metro (200, 7)\n",
      "polisazerbaycan (200, 7)\n",
      "sosial_gov_az (200, 7)\n",
      "asanxidmat (200, 7)\n",
      "voaazeri (200, 7)\n",
      "CityNetaze (9, 7)\n",
      "alberteyniseydi (199, 7)\n",
      "bbcazeri (200, 7)\n",
      "Azercell (200, 7)\n",
      "Bakcell (200, 7)\n",
      "TvIctimai (200, 7)\n",
      "yelo_bank (200, 7)\n",
      "abb_bank (200, 7)\n",
      "unibank (200, 7)\n",
      "KapitalBankOJSC (200, 7)\n",
      "PASHABank (200, 7)\n",
      "akinchiproject (200, 7)\n",
      "azadliq_news (200, 7)\n",
      "AzadliqRadiosu (200, 7)\n",
      "AzerbaijanPA (200, 7)\n",
      "MeydanTV (200, 7)\n",
      "mikayilmusfiq_ (200, 7)\n",
      "MikroskopMedia (200, 7)\n",
      "natiqnatiqoglu (180, 7)\n",
      "RgisiD (200, 7)\n",
      "SefaMehdi (200, 7)\n",
      "sosial_gov_az (200, 7)\n",
      "INazirliyi (200, 7)\n",
      "HA_Center (200, 7)\n",
      "minenergyaze (200, 7)\n",
      "AzNatArchives (200, 7)\n",
      "Youthfund_Az (200, 7)\n",
      "iqtisadiislahat (200, 7)\n"
     ]
    }
   ],
   "source": [
    "for scname in screen_names:\n",
    "    df=DataOfUser_ToFrame(scname)"
   ]
  },
  {
   "cell_type": "code",
   "execution_count": 8,
   "id": "898339e3",
   "metadata": {},
   "outputs": [
    {
     "data": {
      "text/plain": [
       "36"
      ]
     },
     "execution_count": 8,
     "metadata": {},
     "output_type": "execute_result"
    }
   ],
   "source": [
    "len(screen_names)"
   ]
  },
  {
   "cell_type": "code",
   "execution_count": null,
   "id": "33cee90c",
   "metadata": {},
   "outputs": [],
   "source": []
  }
 ],
 "metadata": {
  "kernelspec": {
   "display_name": "Python 3 (ipykernel)",
   "language": "python",
   "name": "python3"
  },
  "language_info": {
   "codemirror_mode": {
    "name": "ipython",
    "version": 3
   },
   "file_extension": ".py",
   "mimetype": "text/x-python",
   "name": "python",
   "nbconvert_exporter": "python",
   "pygments_lexer": "ipython3",
   "version": "3.8.10"
  }
 },
 "nbformat": 4,
 "nbformat_minor": 5
}
