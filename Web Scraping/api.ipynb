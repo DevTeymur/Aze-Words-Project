{
 "cells": [
  {
   "cell_type": "code",
   "execution_count": 148,
   "id": "bb2cb62b",
   "metadata": {},
   "outputs": [],
   "source": [
    "import tweepy\n",
    "import webbrowser\n",
    "import time\n",
    "import pandas as pd"
   ]
  },
  {
   "cell_type": "markdown",
   "id": "3e98a2f4",
   "metadata": {},
   "source": [
    "# Authentication"
   ]
  },
  {
   "cell_type": "code",
   "execution_count": 97,
   "id": "a2487110",
   "metadata": {},
   "outputs": [],
   "source": [
    "consumer_key = \"bYD7UaDmKVBOr3HjswjTiV6MM\"\n",
    "consumer_secret_key = \"qNR3FNURhggb8RgNXnMziSG3LugBvqjAxVuf091ql16c2U5Yud\"\n",
    "callback_url = \"oob\""
   ]
  },
  {
   "cell_type": "code",
   "execution_count": 98,
   "id": "391fab74",
   "metadata": {},
   "outputs": [],
   "source": [
    "def authentication(c_key, c_secret_key, c_url):\n",
    "    auth = tweepy.OAuthHandler(c_key, c_secret_key, c_url)\n",
    "    redirect_url = auth.get_authorization_url()\n",
    "    print(redirect_url)\n",
    "    webbrowser.open(redirect_url)\n",
    "    user_pin_input = input(\"Pin value: \")\n",
    "    auth.get_access_token(user_pin_input)"
   ]
  },
  {
   "cell_type": "code",
   "execution_count": 139,
   "id": "21981f60",
   "metadata": {},
   "outputs": [
    {
     "name": "stdout",
     "output_type": "stream",
     "text": [
      "https://api.twitter.com/oauth/authorize?oauth_token=PsB8YAAAAAABUbINAAABfFaBf2I\n",
      "Pin value: 7396552\n"
     ]
    }
   ],
   "source": [
    "authentication(consumer_key, consumer_secret_key, callback_url)"
   ]
  },
  {
   "cell_type": "code",
   "execution_count": 140,
   "id": "752352b1",
   "metadata": {},
   "outputs": [],
   "source": [
    "api = tweepy.API(auth)"
   ]
  },
  {
   "cell_type": "code",
   "execution_count": 141,
   "id": "1a135b12",
   "metadata": {},
   "outputs": [],
   "source": [
    "my_friends=''"
   ]
  },
  {
   "cell_type": "code",
   "execution_count": 142,
   "id": "687660cd",
   "metadata": {},
   "outputs": [],
   "source": [
    "def get_friends_list():\n",
    "    \"\"\"This function returns list of screen names of user's friends.\"\"\"\n",
    "    global my_friends\n",
    "    friends_list=[]\n",
    "    if my_friends != '':\n",
    "        pass #Not requesting again\n",
    "    else:\n",
    "        my_friends = api.get_friends()\n",
    "    for f in my_friends:\n",
    "        friends_list.append(f.screen_name)\n",
    "    return friends_list"
   ]
  },
  {
   "cell_type": "code",
   "execution_count": 144,
   "id": "1802ff2f",
   "metadata": {},
   "outputs": [],
   "source": [
    "def upload_new_status(status_to_upload):\n",
    "    \"\"\"This function tweets status. For now no permission\"\"\"\n",
    "    new_status_check = False\n",
    "    new_status = api.update_status(status_to_upload)"
   ]
  },
  {
   "cell_type": "code",
   "execution_count": 147,
   "id": "fbada40c",
   "metadata": {},
   "outputs": [],
   "source": [
    "def DataOfUser_ToFrame():\n",
    "    \"\"\"This function collects data of particular user and passes it to dataframe\"\"\"\n",
    "    pass"
   ]
  },
  {
   "cell_type": "code",
   "execution_count": null,
   "id": "1565c3b2",
   "metadata": {},
   "outputs": [],
   "source": []
  }
 ],
 "metadata": {
  "kernelspec": {
   "display_name": "Python 3",
   "language": "python",
   "name": "python3"
  },
  "language_info": {
   "codemirror_mode": {
    "name": "ipython",
    "version": 3
   },
   "file_extension": ".py",
   "mimetype": "text/x-python",
   "name": "python",
   "nbconvert_exporter": "python",
   "pygments_lexer": "ipython3",
   "version": "3.8.5"
  }
 },
 "nbformat": 4,
 "nbformat_minor": 5
}
