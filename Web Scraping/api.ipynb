{
 "cells": [
  {
   "cell_type": "code",
   "execution_count": 2,
   "id": "2ac574d3",
   "metadata": {},
   "outputs": [],
   "source": [
    "import tweepy\n",
    "import webbrowser\n",
    "import time"
   ]
  },
  {
   "cell_type": "markdown",
   "id": "872fc5fb",
   "metadata": {},
   "source": [
    "# Authentication"
   ]
  },
  {
   "cell_type": "code",
   "execution_count": 80,
   "id": "4193f9ac",
   "metadata": {},
   "outputs": [],
   "source": [
    "consumer_key = \"bYD7UaDmKVBOr3HjswjTiV6MM\"\n",
    "consumer_secret_key = \"qNR3FNURhggb8RgNXnMziSG3LugBvqjAxVuf091ql16c2U5Yud\"\n",
    "callback_url = \"oob\""
   ]
  },
  {
   "cell_type": "code",
   "execution_count": 81,
   "id": "1518214f",
   "metadata": {},
   "outputs": [],
   "source": [
    "def authentication(c_key, c_secret_key, c_url):\n",
    "    auth = tweepy.OAuthHandler(c_key, c_secret_key, c_url)\n",
    "    redirect_url = auth.get_authorization_url()\n",
    "    print(redirect_url)\n",
    "    webbrowser.open(redirect_url)\n",
    "    user_pin_input = input(\"Pin value: \")\n",
    "    auth.get_access_token(user_pin_input)"
   ]
  },
  {
   "cell_type": "code",
   "execution_count": 82,
   "id": "c49e82e6",
   "metadata": {},
   "outputs": [
    {
     "name": "stdout",
     "output_type": "stream",
     "text": [
      "https://api.twitter.com/oauth/authorize?oauth_token=2mBI4wAAAAABUbINAAABfFXsA1Q\n",
      "Pin value: 9849988\n"
     ]
    }
   ],
   "source": [
    "authentication(consumer_key, consumer_secret_key, callback_url)"
   ]
  },
  {
   "cell_type": "code",
   "execution_count": 83,
   "id": "6bd8c0ec",
   "metadata": {},
   "outputs": [],
   "source": [
    "api = tweepy.API(auth)"
   ]
  },
  {
   "cell_type": "code",
   "execution_count": 91,
   "id": "82e83846",
   "metadata": {},
   "outputs": [],
   "source": [
    "def get_friends_list():\n",
    "    \"\"\"This function returns list of screen names of user's friends.\"\"\"\n",
    "    get_friends_check = False #typo\n",
    "    friends_list=[]\n",
    "    if get_friends_check:\n",
    "        pass\n",
    "    else:\n",
    "        my_friends = api.get_friends()\n",
    "        get_friends_check = True\n",
    "    for f in my_friends:\n",
    "        print(f.screen_name)\n",
    "        friends_list.append(f.screen_name)\n",
    "    return friends_list"
   ]
  },
  {
   "cell_type": "code",
   "execution_count": 93,
   "id": "0ae98bcf",
   "metadata": {},
   "outputs": [],
   "source": [
    "def upload_new_status():\n",
    "    \"\"\"This function tweets status.\"\"\"\n",
    "    new_status_check = False\n",
    "    status_to_upload = input(\"Write status: \")\n",
    "    new_status = api.update_status(status_to_upload)"
   ]
  },
  {
   "cell_type": "code",
   "execution_count": null,
   "id": "342da99c",
   "metadata": {},
   "outputs": [],
   "source": []
  }
 ],
 "metadata": {
  "kernelspec": {
   "display_name": "Python 3",
   "language": "python",
   "name": "python3"
  },
  "language_info": {
   "codemirror_mode": {
    "name": "ipython",
    "version": 3
   },
   "file_extension": ".py",
   "mimetype": "text/x-python",
   "name": "python",
   "nbconvert_exporter": "python",
   "pygments_lexer": "ipython3",
   "version": "3.8.5"
  }
 },
 "nbformat": 4,
 "nbformat_minor": 5
}
