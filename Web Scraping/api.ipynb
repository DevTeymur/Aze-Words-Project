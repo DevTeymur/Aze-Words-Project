{
 "cells": [
  {
   "cell_type": "code",
   "execution_count": 1,
   "id": "bb2cb62b",
   "metadata": {},
   "outputs": [],
   "source": [
    "import tweepy\n",
    "import webbrowser\n",
    "import time\n",
    "import pandas as pd"
   ]
  },
  {
   "cell_type": "markdown",
   "id": "3e98a2f4",
   "metadata": {},
   "source": [
    "# Authentication"
   ]
  },
  {
   "cell_type": "code",
   "execution_count": 2,
   "id": "a2487110",
   "metadata": {},
   "outputs": [],
   "source": [
    "consumer_key = \"bYD7UaDmKVBOr3HjswjTiV6MM\"\n",
    "consumer_secret_key = \"qNR3FNURhggb8RgNXnMziSG3LugBvqjAxVuf091ql16c2U5Yud\"\n",
    "callback_url = \"oob\""
   ]
  },
  {
   "cell_type": "code",
   "execution_count": 3,
   "id": "391fab74",
   "metadata": {},
   "outputs": [
    {
     "name": "stdout",
     "output_type": "stream",
     "text": [
      "https://api.twitter.com/oauth/authorize?oauth_token=SwcLugAAAAABUbINAAABfGQLYV4\n",
      "Pin value: 5321798\n"
     ]
    },
    {
     "data": {
      "text/plain": [
       "('1313512849659121666-6VqsqQK3yPVl5eS8Pr8JgyTwi2oFBh',\n",
       " 'wU2MrTfHm4opkaIkZE8Y19OptmJZQpGT7HSMCsiu0QIwp')"
      ]
     },
     "execution_count": 3,
     "metadata": {},
     "output_type": "execute_result"
    }
   ],
   "source": [
    "auth = tweepy.OAuthHandler(consumer_key, consumer_secret_key, callback_url)\n",
    "redirect_url = auth.get_authorization_url()\n",
    "print(redirect_url)\n",
    "webbrowser.open(redirect_url)\n",
    "user_pin_input = input(\"Pin value: \")\n",
    "auth.get_access_token(user_pin_input)"
   ]
  },
  {
   "cell_type": "code",
   "execution_count": 4,
   "id": "752352b1",
   "metadata": {},
   "outputs": [],
   "source": [
    "api = tweepy.API(auth)"
   ]
  },
  {
   "cell_type": "code",
   "execution_count": 18,
   "id": "1a135b12",
   "metadata": {},
   "outputs": [],
   "source": [
    "my_friends=''"
   ]
  },
  {
   "cell_type": "code",
   "execution_count": 19,
   "id": "687660cd",
   "metadata": {},
   "outputs": [],
   "source": [
    "def get_friends_list():\n",
    "    \"\"\"This function returns list of screen names of user's friends.\"\"\"\n",
    "    global my_friends\n",
    "    friends_list=[]\n",
    "    if my_friends != '':\n",
    "        pass #Not requesting again\n",
    "    else:\n",
    "        my_friends = api.get_friends()\n",
    "    for f in my_friends:\n",
    "        friends_list.append(f.screen_name)\n",
    "    return friends_list"
   ]
  },
  {
   "cell_type": "code",
   "execution_count": 22,
   "id": "1802ff2f",
   "metadata": {},
   "outputs": [],
   "source": [
    "def upload_new_status(status_to_upload):\n",
    "    \"\"\"This function tweets status. No permission\"\"\"\n",
    "    new_status_check = False\n",
    "    new_status = api.update_status(status_to_upload)"
   ]
  },
  {
   "cell_type": "code",
   "execution_count": 35,
   "id": "55e95193",
   "metadata": {},
   "outputs": [],
   "source": [
    "user_timeline=''"
   ]
  },
  {
   "cell_type": "code",
   "execution_count": 36,
   "id": "fbada40c",
   "metadata": {},
   "outputs": [],
   "source": [
    "def DataOfUser_ToFrame():\n",
    "    \"\"\"This function collects data of particular user and passes it to dataframe\"\"\"\n",
    "    global user_timeline\n",
    "    results = {'Id': [], 'Screen_name': [], 'Created_at': [], 'Text': [], 'Url': [],\n",
    "              'Hastags': [], 'Symbols': []}\n",
    "    if user_timeline:\n",
    "        pass\n",
    "    else:\n",
    "        user_timeline = api.get_user(screen_name = \"azadliq_news\").timeline()\n",
    "    for data in user_timeline:\n",
    "        results['Id'].append(data.id)\n",
    "        results['Screen_name'].append(data.author.screen_name)\n",
    "        results['Created_at'].append(data.created_at)\n",
    "        results['Text'].append(data.text)\n",
    "        try:\n",
    "            results['Url'].append(data.entities['urls'][0]['url'])\n",
    "        except:\n",
    "            results['Url'].append('No url')\n",
    "        results['Hastags'].append(data.entities['hashtags'])\n",
    "        results['Symbols'].append(data.entities['symbols'])\n",
    "    df=pd.DataFrame(results)\n",
    "    return df"
   ]
  },
  {
   "cell_type": "code",
   "execution_count": 37,
   "id": "82f3ccaa",
   "metadata": {},
   "outputs": [],
   "source": [
    "df=DataOfUser_ToFrame()"
   ]
  },
  {
   "cell_type": "code",
   "execution_count": 38,
   "id": "9a011d28",
   "metadata": {},
   "outputs": [],
   "source": [
    "df.to_csv('azadliq_news.csv', index=False)"
   ]
  },
  {
   "cell_type": "code",
   "execution_count": 39,
   "id": "898339e3",
   "metadata": {},
   "outputs": [
    {
     "data": {
      "text/plain": [
       "(20, 7)"
      ]
     },
     "execution_count": 39,
     "metadata": {},
     "output_type": "execute_result"
    }
   ],
   "source": [
    "df.shape"
   ]
  },
  {
   "cell_type": "code",
   "execution_count": null,
   "id": "2e413b24",
   "metadata": {},
   "outputs": [],
   "source": []
  }
 ],
 "metadata": {
  "kernelspec": {
   "display_name": "Python 3",
   "language": "python",
   "name": "python3"
  },
  "language_info": {
   "codemirror_mode": {
    "name": "ipython",
    "version": 3
   },
   "file_extension": ".py",
   "mimetype": "text/x-python",
   "name": "python",
   "nbconvert_exporter": "python",
   "pygments_lexer": "ipython3",
   "version": "3.8.5"
  }
 },
 "nbformat": 4,
 "nbformat_minor": 5
}
