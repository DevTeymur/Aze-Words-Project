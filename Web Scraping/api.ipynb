{
 "cells": [
  {
   "cell_type": "code",
   "execution_count": 1,
   "id": "bb2cb62b",
   "metadata": {},
   "outputs": [],
   "source": [
    "import tweepy\n",
    "import webbrowser\n",
    "import time\n",
    "import pandas as pd"
   ]
  },
  {
   "cell_type": "markdown",
   "id": "3e98a2f4",
   "metadata": {},
   "source": [
    "# Authentication"
   ]
  },
  {
   "cell_type": "code",
   "execution_count": 2,
   "id": "a2487110",
   "metadata": {},
   "outputs": [],
   "source": [
    "consumer_key = \"bYD7UaDmKVBOr3HjswjTiV6MM\"\n",
    "consumer_secret_key = \"qNR3FNURhggb8RgNXnMziSG3LugBvqjAxVuf091ql16c2U5Yud\"\n",
    "callback_url = \"oob\""
   ]
  },
  {
   "cell_type": "code",
   "execution_count": 3,
   "id": "391fab74",
   "metadata": {},
   "outputs": [
    {
     "name": "stdout",
     "output_type": "stream",
     "text": [
      "https://api.twitter.com/oauth/authorize?oauth_token=og3rygAAAAABUbINAAABfGCXTdU\n",
      "Pin value: 9472945\n"
     ]
    },
    {
     "data": {
      "text/plain": [
       "('1313512849659121666-6VqsqQK3yPVl5eS8Pr8JgyTwi2oFBh',\n",
       " 'wU2MrTfHm4opkaIkZE8Y19OptmJZQpGT7HSMCsiu0QIwp')"
      ]
     },
     "execution_count": 3,
     "metadata": {},
     "output_type": "execute_result"
    }
   ],
   "source": [
    "auth = tweepy.OAuthHandler(consumer_key, consumer_secret_key, callback_url)\n",
    "redirect_url = auth.get_authorization_url()\n",
    "print(redirect_url)\n",
    "webbrowser.open(redirect_url)\n",
    "user_pin_input = input(\"Pin value: \")\n",
    "auth.get_access_token(user_pin_input)"
   ]
  },
  {
   "cell_type": "code",
   "execution_count": 4,
   "id": "752352b1",
   "metadata": {},
   "outputs": [],
   "source": [
    "api = tweepy.API(auth)"
   ]
  },
  {
   "cell_type": "code",
   "execution_count": 18,
   "id": "1a135b12",
   "metadata": {},
   "outputs": [],
   "source": [
    "my_friends=''"
   ]
  },
  {
   "cell_type": "code",
   "execution_count": 19,
   "id": "687660cd",
   "metadata": {},
   "outputs": [],
   "source": [
    "def get_friends_list():\n",
    "    \"\"\"This function returns list of screen names of user's friends.\"\"\"\n",
    "    global my_friends\n",
    "    friends_list=[]\n",
    "    if my_friends != '':\n",
    "        pass #Not requesting again\n",
    "    else:\n",
    "        my_friends = api.get_friends()\n",
    "    for f in my_friends:\n",
    "        friends_list.append(f.screen_name)\n",
    "    return friends_list"
   ]
  },
  {
   "cell_type": "code",
   "execution_count": 22,
   "id": "1802ff2f",
   "metadata": {},
   "outputs": [],
   "source": [
    "def upload_new_status(status_to_upload):\n",
    "    \"\"\"This function tweets status. No permission\"\"\"\n",
    "    new_status_check = False\n",
    "    new_status = api.update_status(status_to_upload)"
   ]
  },
  {
   "cell_type": "code",
   "execution_count": 83,
   "id": "55e95193",
   "metadata": {},
   "outputs": [],
   "source": [
    "user_timeline=''"
   ]
  },
  {
   "cell_type": "code",
   "execution_count": 84,
   "id": "fbada40c",
   "metadata": {},
   "outputs": [],
   "source": [
    "def DataOfUser_ToFrame():\n",
    "    \"\"\"This function collects data of particular user and passes it to dataframe\"\"\"\n",
    "    global user_timeline\n",
    "    results = {'Id': [], 'Screen_name': [], 'Created_at': [], 'Text': [], 'Url': [],\n",
    "              'Hastags': [], 'Symbols': []}\n",
    "    if user_timeline:\n",
    "        pass\n",
    "    else:\n",
    "        user_timeline = api.get_user(screen_name = \"MikroskopMedia\").timeline()\n",
    "    for data in user_timeline:\n",
    "        results['Id'].append(data.id)\n",
    "        results['Screen_name'].append(data.author.screen_name)\n",
    "        results['Created_at'].append(data.created_at)\n",
    "        results['Text'].append(data.text)\n",
    "        try:\n",
    "            results['Url'].append(data.entities['urls'][0]['url'])\n",
    "        except:\n",
    "            results['Url'].append('No url')\n",
    "        results['Hastags'].append(data.entities['hashtags'])\n",
    "        results['Symbols'].append(data.entities['symbols'])\n",
    "    df=pd.DataFrame(results)\n",
    "    return df"
   ]
  },
  {
   "cell_type": "code",
   "execution_count": 85,
   "id": "82f3ccaa",
   "metadata": {},
   "outputs": [
    {
     "data": {
      "text/html": [
       "<div>\n",
       "<style scoped>\n",
       "    .dataframe tbody tr th:only-of-type {\n",
       "        vertical-align: middle;\n",
       "    }\n",
       "\n",
       "    .dataframe tbody tr th {\n",
       "        vertical-align: top;\n",
       "    }\n",
       "\n",
       "    .dataframe thead th {\n",
       "        text-align: right;\n",
       "    }\n",
       "</style>\n",
       "<table border=\"1\" class=\"dataframe\">\n",
       "  <thead>\n",
       "    <tr style=\"text-align: right;\">\n",
       "      <th></th>\n",
       "      <th>Id</th>\n",
       "      <th>Screen_name</th>\n",
       "      <th>Created_at</th>\n",
       "      <th>Text</th>\n",
       "      <th>Url</th>\n",
       "      <th>Hastags</th>\n",
       "      <th>Symbols</th>\n",
       "    </tr>\n",
       "  </thead>\n",
       "  <tbody>\n",
       "    <tr>\n",
       "      <th>0</th>\n",
       "      <td>1446450811375169536</td>\n",
       "      <td>MikroskopMedia</td>\n",
       "      <td>2021-10-08 12:22:01+00:00</td>\n",
       "      <td>Bu məlumatı, Böyük Birtaniyada mənzillənən ərə...</td>\n",
       "      <td>https://t.co/QzzUoeeBgg</td>\n",
       "      <td>[]</td>\n",
       "      <td>[]</td>\n",
       "    </tr>\n",
       "    <tr>\n",
       "      <th>1</th>\n",
       "      <td>1446405547104821259</td>\n",
       "      <td>MikroskopMedia</td>\n",
       "      <td>2021-10-08 09:22:10+00:00</td>\n",
       "      <td>❗TƏCİLİ\\n⚠️Niyaməddin Əhmədov 13 il azadlıqdan...</td>\n",
       "      <td>https://t.co/3rl9UxCeQc</td>\n",
       "      <td>[]</td>\n",
       "      <td>[]</td>\n",
       "    </tr>\n",
       "    <tr>\n",
       "      <th>2</th>\n",
       "      <td>1446404341968035846</td>\n",
       "      <td>MikroskopMedia</td>\n",
       "      <td>2021-10-08 09:17:22+00:00</td>\n",
       "      <td>⚡Bu il Nobel Sülh Mükafatı \"Novaya Gazeta\"nın ...</td>\n",
       "      <td>https://t.co/1NKtOmmWRA</td>\n",
       "      <td>[]</td>\n",
       "      <td>[]</td>\n",
       "    </tr>\n",
       "    <tr>\n",
       "      <th>3</th>\n",
       "      <td>1446397017396240394</td>\n",
       "      <td>MikroskopMedia</td>\n",
       "      <td>2021-10-08 08:48:16+00:00</td>\n",
       "      <td>❗Saxlanılan qadınlar Şamaxı Yevlax yolunda sər...</td>\n",
       "      <td>https://t.co/AuxHthwAE5</td>\n",
       "      <td>[]</td>\n",
       "      <td>[]</td>\n",
       "    </tr>\n",
       "    <tr>\n",
       "      <th>4</th>\n",
       "      <td>1446382744901201932</td>\n",
       "      <td>MikroskopMedia</td>\n",
       "      <td>2021-10-08 07:51:33+00:00</td>\n",
       "      <td>⚡️Niyaməddin Əhmədovun məhkəməsinə gələn AXCP ...</td>\n",
       "      <td>https://t.co/lph5XtGzSH</td>\n",
       "      <td>[]</td>\n",
       "      <td>[]</td>\n",
       "    </tr>\n",
       "  </tbody>\n",
       "</table>\n",
       "</div>"
      ],
      "text/plain": [
       "                    Id     Screen_name                Created_at  \\\n",
       "0  1446450811375169536  MikroskopMedia 2021-10-08 12:22:01+00:00   \n",
       "1  1446405547104821259  MikroskopMedia 2021-10-08 09:22:10+00:00   \n",
       "2  1446404341968035846  MikroskopMedia 2021-10-08 09:17:22+00:00   \n",
       "3  1446397017396240394  MikroskopMedia 2021-10-08 08:48:16+00:00   \n",
       "4  1446382744901201932  MikroskopMedia 2021-10-08 07:51:33+00:00   \n",
       "\n",
       "                                                Text                      Url  \\\n",
       "0  Bu məlumatı, Böyük Birtaniyada mənzillənən ərə...  https://t.co/QzzUoeeBgg   \n",
       "1  ❗TƏCİLİ\\n⚠️Niyaməddin Əhmədov 13 il azadlıqdan...  https://t.co/3rl9UxCeQc   \n",
       "2  ⚡Bu il Nobel Sülh Mükafatı \"Novaya Gazeta\"nın ...  https://t.co/1NKtOmmWRA   \n",
       "3  ❗Saxlanılan qadınlar Şamaxı Yevlax yolunda sər...  https://t.co/AuxHthwAE5   \n",
       "4  ⚡️Niyaməddin Əhmədovun məhkəməsinə gələn AXCP ...  https://t.co/lph5XtGzSH   \n",
       "\n",
       "  Hastags Symbols  \n",
       "0      []      []  \n",
       "1      []      []  \n",
       "2      []      []  \n",
       "3      []      []  \n",
       "4      []      []  "
      ]
     },
     "execution_count": 85,
     "metadata": {},
     "output_type": "execute_result"
    }
   ],
   "source": [
    "df=DataOfUser_ToFrame()"
   ]
  },
  {
   "cell_type": "code",
   "execution_count": 87,
   "id": "9a011d28",
   "metadata": {},
   "outputs": [],
   "source": [
    "df.to_csv('MikroskopMedia.csv', index=False)"
   ]
  }
 ],
 "metadata": {
  "kernelspec": {
   "display_name": "Python 3",
   "language": "python",
   "name": "python3"
  },
  "language_info": {
   "codemirror_mode": {
    "name": "ipython",
    "version": 3
   },
   "file_extension": ".py",
   "mimetype": "text/x-python",
   "name": "python",
   "nbconvert_exporter": "python",
   "pygments_lexer": "ipython3",
   "version": "3.8.5"
  }
 },
 "nbformat": 4,
 "nbformat_minor": 5
}
